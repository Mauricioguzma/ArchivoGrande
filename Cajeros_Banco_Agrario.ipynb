{
  "nbformat": 4,
  "nbformat_minor": 0,
  "metadata": {
    "colab": {
      "provenance": [],
      "authorship_tag": "ABX9TyMYcS3fAi/d5/cHhD72dFtV",
      "include_colab_link": true
    },
    "kernelspec": {
      "name": "python3",
      "display_name": "Python 3"
    },
    "language_info": {
      "name": "python"
    }
  },
  "cells": [
    {
      "cell_type": "markdown",
      "metadata": {
        "id": "view-in-github",
        "colab_type": "text"
      },
      "source": [
        "<a href=\"https://colab.research.google.com/github/Mauricioguzma/ArchivoGrande/blob/main/Cajeros_Banco_Agrario.ipynb\" target=\"_parent\"><img src=\"https://colab.research.google.com/assets/colab-badge.svg\" alt=\"Open In Colab\"/></a>"
      ]
    },
    {
      "cell_type": "code",
      "execution_count": 2,
      "metadata": {
        "id": "wcbtQEBaxcx1"
      },
      "outputs": [],
      "source": [
        "import pandas as pd\n",
        "import matplotlib.pyplot as plt"
      ]
    },
    {
      "cell_type": "code",
      "source": [
        "url = 'https://raw.githubusercontent.com/Mauricioguzma/Proyecto_Final/main/Cajeros_Autom_ticos_Banco_Agrario_20240811%20(1).csv'\n",
        "df = pd.read_csv(url)\n",
        "df.head()"
      ],
      "metadata": {
        "colab": {
          "base_uri": "https://localhost:8080/",
          "height": 206
        },
        "id": "3miYR6Jjx0jb",
        "outputId": "b0ccc8a6-95f9-45aa-86df-e7a441e2e5e9"
      },
      "execution_count": 3,
      "outputs": [
        {
          "output_type": "execute_result",
          "data": {
            "text/plain": [
              "                          NOMBRE   REGIONAL    CIUDAD  DEPARTAMENTO  \\\n",
              "0              AEROPUERTO CAREPA  ANTIOQUIA    CAREPA     ANTIOQUIA   \n",
              "1            AEROPUERTO DORADO I     BOGOTA    BOGOTA  CUNDINAMARCA   \n",
              "2           AEROPUERTO DORADO II     BOGOTA    BOGOTA  CUNDINAMARCA   \n",
              "3    AEROPUERTO MATECAÑA PEREIRA   CAFETERA   PEREIRA     RISARALDA   \n",
              "4  AEROPUERTO JOSE MARIA CORDOBA  ANTIOQUIA  RIONEGRO     ANTIOQUIA   \n",
              "\n",
              "                                  DIRECCION  \n",
              "0  AEROPUERTO CAREPA, KILOMETRO 5 VIA ZUNGO  \n",
              "1   AEROPUERTO DORADO NUEVA TERMINAL PISO 1  \n",
              "2   AEROPUERTO DORADO NUEVA TERMINAL PISO 3  \n",
              "3         AEROPUERTO INTERNACIONAL MATECAÑA  \n",
              "4  AEROPUERTO JOSE MARIA CORDOBA LOCAL 71 A  "
            ],
            "text/html": [
              "\n",
              "  <div id=\"df-d9275523-d91c-45ac-bfa1-5eb775cf8f0e\" class=\"colab-df-container\">\n",
              "    <div>\n",
              "<style scoped>\n",
              "    .dataframe tbody tr th:only-of-type {\n",
              "        vertical-align: middle;\n",
              "    }\n",
              "\n",
              "    .dataframe tbody tr th {\n",
              "        vertical-align: top;\n",
              "    }\n",
              "\n",
              "    .dataframe thead th {\n",
              "        text-align: right;\n",
              "    }\n",
              "</style>\n",
              "<table border=\"1\" class=\"dataframe\">\n",
              "  <thead>\n",
              "    <tr style=\"text-align: right;\">\n",
              "      <th></th>\n",
              "      <th>NOMBRE</th>\n",
              "      <th>REGIONAL</th>\n",
              "      <th>CIUDAD</th>\n",
              "      <th>DEPARTAMENTO</th>\n",
              "      <th>DIRECCION</th>\n",
              "    </tr>\n",
              "  </thead>\n",
              "  <tbody>\n",
              "    <tr>\n",
              "      <th>0</th>\n",
              "      <td>AEROPUERTO CAREPA</td>\n",
              "      <td>ANTIOQUIA</td>\n",
              "      <td>CAREPA</td>\n",
              "      <td>ANTIOQUIA</td>\n",
              "      <td>AEROPUERTO CAREPA, KILOMETRO 5 VIA ZUNGO</td>\n",
              "    </tr>\n",
              "    <tr>\n",
              "      <th>1</th>\n",
              "      <td>AEROPUERTO DORADO I</td>\n",
              "      <td>BOGOTA</td>\n",
              "      <td>BOGOTA</td>\n",
              "      <td>CUNDINAMARCA</td>\n",
              "      <td>AEROPUERTO DORADO NUEVA TERMINAL PISO 1</td>\n",
              "    </tr>\n",
              "    <tr>\n",
              "      <th>2</th>\n",
              "      <td>AEROPUERTO DORADO II</td>\n",
              "      <td>BOGOTA</td>\n",
              "      <td>BOGOTA</td>\n",
              "      <td>CUNDINAMARCA</td>\n",
              "      <td>AEROPUERTO DORADO NUEVA TERMINAL PISO 3</td>\n",
              "    </tr>\n",
              "    <tr>\n",
              "      <th>3</th>\n",
              "      <td>AEROPUERTO MATECAÑA PEREIRA</td>\n",
              "      <td>CAFETERA</td>\n",
              "      <td>PEREIRA</td>\n",
              "      <td>RISARALDA</td>\n",
              "      <td>AEROPUERTO INTERNACIONAL MATECAÑA</td>\n",
              "    </tr>\n",
              "    <tr>\n",
              "      <th>4</th>\n",
              "      <td>AEROPUERTO JOSE MARIA CORDOBA</td>\n",
              "      <td>ANTIOQUIA</td>\n",
              "      <td>RIONEGRO</td>\n",
              "      <td>ANTIOQUIA</td>\n",
              "      <td>AEROPUERTO JOSE MARIA CORDOBA LOCAL 71 A</td>\n",
              "    </tr>\n",
              "  </tbody>\n",
              "</table>\n",
              "</div>\n",
              "    <div class=\"colab-df-buttons\">\n",
              "\n",
              "  <div class=\"colab-df-container\">\n",
              "    <button class=\"colab-df-convert\" onclick=\"convertToInteractive('df-d9275523-d91c-45ac-bfa1-5eb775cf8f0e')\"\n",
              "            title=\"Convert this dataframe to an interactive table.\"\n",
              "            style=\"display:none;\">\n",
              "\n",
              "  <svg xmlns=\"http://www.w3.org/2000/svg\" height=\"24px\" viewBox=\"0 -960 960 960\">\n",
              "    <path d=\"M120-120v-720h720v720H120Zm60-500h600v-160H180v160Zm220 220h160v-160H400v160Zm0 220h160v-160H400v160ZM180-400h160v-160H180v160Zm440 0h160v-160H620v160ZM180-180h160v-160H180v160Zm440 0h160v-160H620v160Z\"/>\n",
              "  </svg>\n",
              "    </button>\n",
              "\n",
              "  <style>\n",
              "    .colab-df-container {\n",
              "      display:flex;\n",
              "      gap: 12px;\n",
              "    }\n",
              "\n",
              "    .colab-df-convert {\n",
              "      background-color: #E8F0FE;\n",
              "      border: none;\n",
              "      border-radius: 50%;\n",
              "      cursor: pointer;\n",
              "      display: none;\n",
              "      fill: #1967D2;\n",
              "      height: 32px;\n",
              "      padding: 0 0 0 0;\n",
              "      width: 32px;\n",
              "    }\n",
              "\n",
              "    .colab-df-convert:hover {\n",
              "      background-color: #E2EBFA;\n",
              "      box-shadow: 0px 1px 2px rgba(60, 64, 67, 0.3), 0px 1px 3px 1px rgba(60, 64, 67, 0.15);\n",
              "      fill: #174EA6;\n",
              "    }\n",
              "\n",
              "    .colab-df-buttons div {\n",
              "      margin-bottom: 4px;\n",
              "    }\n",
              "\n",
              "    [theme=dark] .colab-df-convert {\n",
              "      background-color: #3B4455;\n",
              "      fill: #D2E3FC;\n",
              "    }\n",
              "\n",
              "    [theme=dark] .colab-df-convert:hover {\n",
              "      background-color: #434B5C;\n",
              "      box-shadow: 0px 1px 3px 1px rgba(0, 0, 0, 0.15);\n",
              "      filter: drop-shadow(0px 1px 2px rgba(0, 0, 0, 0.3));\n",
              "      fill: #FFFFFF;\n",
              "    }\n",
              "  </style>\n",
              "\n",
              "    <script>\n",
              "      const buttonEl =\n",
              "        document.querySelector('#df-d9275523-d91c-45ac-bfa1-5eb775cf8f0e button.colab-df-convert');\n",
              "      buttonEl.style.display =\n",
              "        google.colab.kernel.accessAllowed ? 'block' : 'none';\n",
              "\n",
              "      async function convertToInteractive(key) {\n",
              "        const element = document.querySelector('#df-d9275523-d91c-45ac-bfa1-5eb775cf8f0e');\n",
              "        const dataTable =\n",
              "          await google.colab.kernel.invokeFunction('convertToInteractive',\n",
              "                                                    [key], {});\n",
              "        if (!dataTable) return;\n",
              "\n",
              "        const docLinkHtml = 'Like what you see? Visit the ' +\n",
              "          '<a target=\"_blank\" href=https://colab.research.google.com/notebooks/data_table.ipynb>data table notebook</a>'\n",
              "          + ' to learn more about interactive tables.';\n",
              "        element.innerHTML = '';\n",
              "        dataTable['output_type'] = 'display_data';\n",
              "        await google.colab.output.renderOutput(dataTable, element);\n",
              "        const docLink = document.createElement('div');\n",
              "        docLink.innerHTML = docLinkHtml;\n",
              "        element.appendChild(docLink);\n",
              "      }\n",
              "    </script>\n",
              "  </div>\n",
              "\n",
              "\n",
              "<div id=\"df-f390011f-1d12-4184-8731-e14f2c6b0f25\">\n",
              "  <button class=\"colab-df-quickchart\" onclick=\"quickchart('df-f390011f-1d12-4184-8731-e14f2c6b0f25')\"\n",
              "            title=\"Suggest charts\"\n",
              "            style=\"display:none;\">\n",
              "\n",
              "<svg xmlns=\"http://www.w3.org/2000/svg\" height=\"24px\"viewBox=\"0 0 24 24\"\n",
              "     width=\"24px\">\n",
              "    <g>\n",
              "        <path d=\"M19 3H5c-1.1 0-2 .9-2 2v14c0 1.1.9 2 2 2h14c1.1 0 2-.9 2-2V5c0-1.1-.9-2-2-2zM9 17H7v-7h2v7zm4 0h-2V7h2v10zm4 0h-2v-4h2v4z\"/>\n",
              "    </g>\n",
              "</svg>\n",
              "  </button>\n",
              "\n",
              "<style>\n",
              "  .colab-df-quickchart {\n",
              "      --bg-color: #E8F0FE;\n",
              "      --fill-color: #1967D2;\n",
              "      --hover-bg-color: #E2EBFA;\n",
              "      --hover-fill-color: #174EA6;\n",
              "      --disabled-fill-color: #AAA;\n",
              "      --disabled-bg-color: #DDD;\n",
              "  }\n",
              "\n",
              "  [theme=dark] .colab-df-quickchart {\n",
              "      --bg-color: #3B4455;\n",
              "      --fill-color: #D2E3FC;\n",
              "      --hover-bg-color: #434B5C;\n",
              "      --hover-fill-color: #FFFFFF;\n",
              "      --disabled-bg-color: #3B4455;\n",
              "      --disabled-fill-color: #666;\n",
              "  }\n",
              "\n",
              "  .colab-df-quickchart {\n",
              "    background-color: var(--bg-color);\n",
              "    border: none;\n",
              "    border-radius: 50%;\n",
              "    cursor: pointer;\n",
              "    display: none;\n",
              "    fill: var(--fill-color);\n",
              "    height: 32px;\n",
              "    padding: 0;\n",
              "    width: 32px;\n",
              "  }\n",
              "\n",
              "  .colab-df-quickchart:hover {\n",
              "    background-color: var(--hover-bg-color);\n",
              "    box-shadow: 0 1px 2px rgba(60, 64, 67, 0.3), 0 1px 3px 1px rgba(60, 64, 67, 0.15);\n",
              "    fill: var(--button-hover-fill-color);\n",
              "  }\n",
              "\n",
              "  .colab-df-quickchart-complete:disabled,\n",
              "  .colab-df-quickchart-complete:disabled:hover {\n",
              "    background-color: var(--disabled-bg-color);\n",
              "    fill: var(--disabled-fill-color);\n",
              "    box-shadow: none;\n",
              "  }\n",
              "\n",
              "  .colab-df-spinner {\n",
              "    border: 2px solid var(--fill-color);\n",
              "    border-color: transparent;\n",
              "    border-bottom-color: var(--fill-color);\n",
              "    animation:\n",
              "      spin 1s steps(1) infinite;\n",
              "  }\n",
              "\n",
              "  @keyframes spin {\n",
              "    0% {\n",
              "      border-color: transparent;\n",
              "      border-bottom-color: var(--fill-color);\n",
              "      border-left-color: var(--fill-color);\n",
              "    }\n",
              "    20% {\n",
              "      border-color: transparent;\n",
              "      border-left-color: var(--fill-color);\n",
              "      border-top-color: var(--fill-color);\n",
              "    }\n",
              "    30% {\n",
              "      border-color: transparent;\n",
              "      border-left-color: var(--fill-color);\n",
              "      border-top-color: var(--fill-color);\n",
              "      border-right-color: var(--fill-color);\n",
              "    }\n",
              "    40% {\n",
              "      border-color: transparent;\n",
              "      border-right-color: var(--fill-color);\n",
              "      border-top-color: var(--fill-color);\n",
              "    }\n",
              "    60% {\n",
              "      border-color: transparent;\n",
              "      border-right-color: var(--fill-color);\n",
              "    }\n",
              "    80% {\n",
              "      border-color: transparent;\n",
              "      border-right-color: var(--fill-color);\n",
              "      border-bottom-color: var(--fill-color);\n",
              "    }\n",
              "    90% {\n",
              "      border-color: transparent;\n",
              "      border-bottom-color: var(--fill-color);\n",
              "    }\n",
              "  }\n",
              "</style>\n",
              "\n",
              "  <script>\n",
              "    async function quickchart(key) {\n",
              "      const quickchartButtonEl =\n",
              "        document.querySelector('#' + key + ' button');\n",
              "      quickchartButtonEl.disabled = true;  // To prevent multiple clicks.\n",
              "      quickchartButtonEl.classList.add('colab-df-spinner');\n",
              "      try {\n",
              "        const charts = await google.colab.kernel.invokeFunction(\n",
              "            'suggestCharts', [key], {});\n",
              "      } catch (error) {\n",
              "        console.error('Error during call to suggestCharts:', error);\n",
              "      }\n",
              "      quickchartButtonEl.classList.remove('colab-df-spinner');\n",
              "      quickchartButtonEl.classList.add('colab-df-quickchart-complete');\n",
              "    }\n",
              "    (() => {\n",
              "      let quickchartButtonEl =\n",
              "        document.querySelector('#df-f390011f-1d12-4184-8731-e14f2c6b0f25 button');\n",
              "      quickchartButtonEl.style.display =\n",
              "        google.colab.kernel.accessAllowed ? 'block' : 'none';\n",
              "    })();\n",
              "  </script>\n",
              "</div>\n",
              "\n",
              "    </div>\n",
              "  </div>\n"
            ],
            "application/vnd.google.colaboratory.intrinsic+json": {
              "type": "dataframe",
              "variable_name": "df",
              "summary": "{\n  \"name\": \"df\",\n  \"rows\": 2267,\n  \"fields\": [\n    {\n      \"column\": \"NOMBRE\",\n      \"properties\": {\n        \"dtype\": \"string\",\n        \"num_unique_values\": 2196,\n        \"samples\": [\n          \"CARULLA RETIRO\",\n          \"CHIA CALLE 7\",\n          \"METRO FLORIDABLANCA\"\n        ],\n        \"semantic_type\": \"\",\n        \"description\": \"\"\n      }\n    },\n    {\n      \"column\": \"REGIONAL\",\n      \"properties\": {\n        \"dtype\": \"category\",\n        \"num_unique_values\": 10,\n        \"samples\": [\n          \"Antioquia\",\n          \"BOGOTA\",\n          \"SANTANDERES\"\n        ],\n        \"semantic_type\": \"\",\n        \"description\": \"\"\n      }\n    },\n    {\n      \"column\": \"CIUDAD\",\n      \"properties\": {\n        \"dtype\": \"category\",\n        \"num_unique_values\": 767,\n        \"samples\": [\n          \"ANSERMA\",\n          \"LA VEGA\",\n          \"CARMEN DE CARUPA\"\n        ],\n        \"semantic_type\": \"\",\n        \"description\": \"\"\n      }\n    },\n    {\n      \"column\": \"DEPARTAMENTO\",\n      \"properties\": {\n        \"dtype\": \"category\",\n        \"num_unique_values\": 40,\n        \"samples\": [\n          \"GUAJIRA\",\n          \"CAUCA\",\n          \"CORDOBA\"\n        ],\n        \"semantic_type\": \"\",\n        \"description\": \"\"\n      }\n    },\n    {\n      \"column\": \"DIRECCION\",\n      \"properties\": {\n        \"dtype\": \"string\",\n        \"num_unique_values\": 2199,\n        \"samples\": [\n          \"CALLE 15 # 3A-52\",\n          \"CARRERA 2 # 7-26 AVENIDA LOS LIBERTADORES\",\n          \"CALLE  30N #  2AN-29\"\n        ],\n        \"semantic_type\": \"\",\n        \"description\": \"\"\n      }\n    }\n  ]\n}"
            }
          },
          "metadata": {},
          "execution_count": 3
        }
      ]
    },
    {
      "cell_type": "code",
      "source": [
        "print(df.columns)#nombre de las columnas"
      ],
      "metadata": {
        "colab": {
          "base_uri": "https://localhost:8080/"
        },
        "id": "7fCtBLOjysOf",
        "outputId": "342eb7cb-10ff-437a-a253-91bd101df2b2"
      },
      "execution_count": 4,
      "outputs": [
        {
          "output_type": "stream",
          "name": "stdout",
          "text": [
            "Index(['NOMBRE', 'REGIONAL', 'CIUDAD', 'DEPARTAMENTO', 'DIRECCION'], dtype='object')\n"
          ]
        }
      ]
    },
    {
      "cell_type": "code",
      "source": [
        "print(df.shape)#cantidad filas y columnas"
      ],
      "metadata": {
        "colab": {
          "base_uri": "https://localhost:8080/"
        },
        "id": "FuhSWteo0F91",
        "outputId": "64970861-0673-4512-c6a6-45772f54faef"
      },
      "execution_count": 8,
      "outputs": [
        {
          "output_type": "stream",
          "name": "stdout",
          "text": [
            "(2267, 5)\n"
          ]
        }
      ]
    },
    {
      "cell_type": "code",
      "source": [
        "print(df.info())#tipos de datos y memoria"
      ],
      "metadata": {
        "colab": {
          "base_uri": "https://localhost:8080/"
        },
        "id": "Hqkreeyn0dk1",
        "outputId": "51dd7611-9994-4297-a70c-e4f9a9c70dca"
      },
      "execution_count": 9,
      "outputs": [
        {
          "output_type": "stream",
          "name": "stdout",
          "text": [
            "<class 'pandas.core.frame.DataFrame'>\n",
            "RangeIndex: 2267 entries, 0 to 2266\n",
            "Data columns (total 5 columns):\n",
            " #   Column        Non-Null Count  Dtype \n",
            "---  ------        --------------  ----- \n",
            " 0   NOMBRE        2267 non-null   object\n",
            " 1   REGIONAL      2267 non-null   object\n",
            " 2   CIUDAD        2267 non-null   object\n",
            " 3   DEPARTAMENTO  2267 non-null   object\n",
            " 4   DIRECCION     2267 non-null   object\n",
            "dtypes: object(5)\n",
            "memory usage: 88.7+ KB\n",
            "None\n"
          ]
        }
      ]
    },
    {
      "cell_type": "code",
      "source": [
        "print(df.describe())#descritiva de los datos"
      ],
      "metadata": {
        "colab": {
          "base_uri": "https://localhost:8080/"
        },
        "id": "A-BsrkPI1YHX",
        "outputId": "021f396b-0578-476d-e226-b6d3c2da743f"
      },
      "execution_count": 10,
      "outputs": [
        {
          "output_type": "stream",
          "name": "stdout",
          "text": [
            "             NOMBRE REGIONAL  CIUDAD  DEPARTAMENTO        DIRECCION\n",
            "count          2267     2267    2267          2267             2267\n",
            "unique         2196       10     767            40             2199\n",
            "top     SABANALARGA   BOGOTA  BOGOTA  CUNDINAMARCA  PLAZA PRINCIPAL\n",
            "freq              4      773     475           713                4\n"
          ]
        }
      ]
    },
    {
      "cell_type": "code",
      "source": [
        "print(df.isnull().sum())#indica si hay nulos"
      ],
      "metadata": {
        "colab": {
          "base_uri": "https://localhost:8080/"
        },
        "id": "fabQ0F8b11a9",
        "outputId": "9f7bcdb9-f790-4840-88eb-dfc60350dbb6"
      },
      "execution_count": 11,
      "outputs": [
        {
          "output_type": "stream",
          "name": "stdout",
          "text": [
            "NOMBRE          0\n",
            "REGIONAL        0\n",
            "CIUDAD          0\n",
            "DEPARTAMENTO    0\n",
            "DIRECCION       0\n",
            "dtype: int64\n"
          ]
        }
      ]
    },
    {
      "cell_type": "code",
      "source": [
        "pd.set_option(\"display.max_columns\", None)\n",
        "print(df.head())"
      ],
      "metadata": {
        "colab": {
          "base_uri": "https://localhost:8080/"
        },
        "id": "-3biTo1m2bcQ",
        "outputId": "bfd9df81-d997-4029-b932-1e967885319e"
      },
      "execution_count": 12,
      "outputs": [
        {
          "output_type": "stream",
          "name": "stdout",
          "text": [
            "                          NOMBRE   REGIONAL    CIUDAD  DEPARTAMENTO  \\\n",
            "0              AEROPUERTO CAREPA  ANTIOQUIA    CAREPA     ANTIOQUIA   \n",
            "1            AEROPUERTO DORADO I     BOGOTA    BOGOTA  CUNDINAMARCA   \n",
            "2           AEROPUERTO DORADO II     BOGOTA    BOGOTA  CUNDINAMARCA   \n",
            "3    AEROPUERTO MATECAÑA PEREIRA   CAFETERA   PEREIRA     RISARALDA   \n",
            "4  AEROPUERTO JOSE MARIA CORDOBA  ANTIOQUIA  RIONEGRO     ANTIOQUIA   \n",
            "\n",
            "                                  DIRECCION  \n",
            "0  AEROPUERTO CAREPA, KILOMETRO 5 VIA ZUNGO  \n",
            "1   AEROPUERTO DORADO NUEVA TERMINAL PISO 1  \n",
            "2   AEROPUERTO DORADO NUEVA TERMINAL PISO 3  \n",
            "3         AEROPUERTO INTERNACIONAL MATECAÑA  \n",
            "4  AEROPUERTO JOSE MARIA CORDOBA LOCAL 71 A  \n"
          ]
        }
      ]
    },
    {
      "cell_type": "code",
      "source": [
        "[pd.unique(df[col]) for col in df.columns]"
      ],
      "metadata": {
        "colab": {
          "base_uri": "https://localhost:8080/"
        },
        "id": "HFgu__mO3SZb",
        "outputId": "a6b92173-b42b-4b8a-f759-2bcd51f8e496"
      },
      "execution_count": 15,
      "outputs": [
        {
          "output_type": "execute_result",
          "data": {
            "text/plain": [
              "[array(['AEROPUERTO CAREPA', 'AEROPUERTO DORADO I', 'AEROPUERTO DORADO II',\n",
              "        ..., 'GRAN EST ESFERA II', 'FARMATOD CL 170', 'FARMATOD CHIA'],\n",
              "       dtype=object),\n",
              " array(['ANTIOQUIA', 'BOGOTA', 'CAFETERA', 'OCCIDENTE', 'COSTA',\n",
              "        'SANTANDERES', 'ORIENTAL', 'SUR', 'Antioquia', 'MEDELLIN'],\n",
              "       dtype=object),\n",
              " array(['CAREPA', 'BOGOTA', 'PEREIRA', 'RIONEGRO', 'MEDELLIN', 'PALMIRA',\n",
              "        'CARTAGENA', 'TOCANCIPA', 'CHIA', 'FLORIDABLANCA', 'SOACHA',\n",
              "        'CUCUTA', 'CALI', 'VILLAVICENCIO', 'SANTA MARTA', 'BUCARAMANGA',\n",
              "        'GIRON', 'TUMACO', 'PASTO', 'TURBACO', 'SINCELEJO', 'DOSQUEBRADAS',\n",
              "        'TUNJA', 'ARMENIA', 'GIRARDOT', 'BARRANQUILLA', 'SABANETA',\n",
              "        'YUMBO', 'IPIALES', 'FUNZA', 'MAGANGUE', 'CIENAGA', 'BUENAVENTURA',\n",
              "        'SABANALARGA', 'NEIVA', 'MONTERIA', 'POPAYAN', 'SOLEDAD',\n",
              "        'SANTO TOMAS', 'CIENAGA DE ORO', 'SOGAMOSO', 'MANIZALES',\n",
              "        'GUADALAJARA DE BUGA', 'VILLAMARIA', 'CHIGORODO', 'CARTAGO',\n",
              "        'CERETE', 'SANTA ROSA DE CABAL', 'DUITAMA', 'TULUA', 'JAMUNDI',\n",
              "        'PIEDECUESTA', 'ITAGUI', 'BARRANCABERMEJA', 'MELGAR',\n",
              "        'LA VIRGINIA', 'TENJO', 'RIOHACHA', 'BELLO', 'FUSAGASUGA',\n",
              "        'FLANDES', 'MOSQUERA', 'FACATATIVA', 'SABANAGRANDE', 'SAHAGUN',\n",
              "        'TURBO', 'TUQUERRES', 'VALLEDUPAR', 'MAICAO', 'MALAMBO', 'IBAGUE',\n",
              "        'COROZAL', 'MONTELIBANO', 'MORROA', 'MONTENEGRO', 'UBATE',\n",
              "        'PLANETA RICA', 'ESPINAL', 'VILLA DEL ROSARIO', 'SIBATE', 'YOTOCO',\n",
              "        'ENVIGADO', 'LEBRIJA', 'GALAPA', 'FUNDACION', 'LOS SANTOS',\n",
              "        'GUADUAS', 'ACACIAS', 'CHINCHINA', 'LA MESA', 'EL RETIRO',\n",
              "        'ACEVEDO', 'AGUACHICA', 'AGUADAS', 'ALCALA', 'ALGECIRAS', 'AMAGA',\n",
              "        'ANAPOIMA', 'ANSERMANUEVO', 'APARTADO', 'AQUITANIA', 'ARACATACA',\n",
              "        'ARAUCA', 'ARAUQUITA', 'ARBOLETES', 'BAHIA SOLANO', 'BARBACOAS',\n",
              "        'BARBOSA', 'BARICHARA', 'BELEN', 'BOLIVAR', 'CIUDAD BOLIVAR',\n",
              "        'BOSCONIA', 'CALARCA', 'CALDAS', 'CANDELARIA', 'CAPARRAPI',\n",
              "        'CAQUEZA', 'CARMEN DE VIBORAL', 'CASTILLA LA NUEVA', 'CAUCASIA',\n",
              "        'CERRITO', 'CHIQUINQUIRA', 'CHIRIGUANA', 'CHOCONTA', 'CIMITARRA',\n",
              "        'CIRCASIA', 'CODAZZI', 'CONTRATACION', 'CONVENCION', 'COPACABANA',\n",
              "        'CORINTO', 'CUBARRAL', 'CUMARAL', 'DON MATIAS', 'EL BAGRE',\n",
              "        'EL BANCO', 'PATIA - EL BORDO', 'EL COCUY', 'EL COLEGIO',\n",
              "        'EL COPEY', 'EL DONCELLO', 'EL PEÑOL', 'PLATO', 'FILANDIA',\n",
              "        'FLORENCIA', 'FOMEQUE', 'FORTUL', 'FRONTINO', 'GACHETA', 'GARAGOA',\n",
              "        'GRANADA', 'GUACARI', 'GUAMAL', 'GUARNE', 'GUASCA', 'GUATAVITA',\n",
              "        'GUATEQUE', 'SAN JOSE DEL GUAVIARE', 'GUAYABAL-ARMERO',\n",
              "        'LA JAGUA DE IBIRICO', 'JUAN DE ACOSTA', 'LA CALERA',\n",
              "        'LA ESTRELLA', 'LA HORMIGA-VALLE DEL GUAMUEZ', 'LA PLATA',\n",
              "        'LA UNION', 'LANDAZURI', 'LETICIA', 'LORICA', 'MAJAGUAL', 'MALAGA',\n",
              "        'MANAURE', 'MANI', 'MARIA LA BAJA', 'MEDINA', 'MIRAFLORES', 'MITU',\n",
              "        'MOCOA', 'MONIQUIRA', 'MOMPOS', 'MONTERREY', 'MORALES',\n",
              "        'NATAGAIMA', 'NECOCLI', 'NOCAIMA', 'OCAÑA', 'ORITO', 'PAIPA',\n",
              "        'PAMPLONA', 'PAZ DE ARIPORO', 'PIENDAMO', 'PITALITO', 'PLANADAS',\n",
              "        'PUERTO BERRIO', 'PUERTO CARREÑO', 'PUERTO GAITAN',\n",
              "        'PUERTO INIRIDA', 'PUERTO LOPEZ', 'PUERTO SALGAR', 'PUERTO TEJADA',\n",
              "        'PUERTO TRIUNFO', 'PUERTO WILCHES', 'PUERTO ASIS', 'PUERTO NARE',\n",
              "        'PUERTO RICO', 'PURIFICACION', 'QUIBDO', 'QUIMBAYA', 'RAMIRIQUI',\n",
              "        'REMEDIOS', 'RICAURTE', 'RIO DE ORO', 'RIOBLANCO', 'RIOSUCIO',\n",
              "        'ROLDANILLO', 'SAN VICENTE DE CHUCURI', 'SAN JUAN DEL CESAR',\n",
              "        'SAN PEDRO DE URABA', 'SANTANDER DE QUILICHAO',\n",
              "        'SAN VICENTE DEL CAGUAN', 'SABANA DE TORRES', 'SABOYA', 'SALDAÑA',\n",
              "        'SALENTO', 'SAMACA', 'SAMANA', 'SAMANIEGO', 'SAMPUES',\n",
              "        'SAN AGUSTIN', 'SAN ALBERTO', 'SAN CARLOS', 'SAN GIL',\n",
              "        'SAN MARTIN', 'SAN ONOFRE', 'SAN PABLO',\n",
              "        'SAN PEDRO DE LOS MILAGROS', 'SAN RAFAEL', 'SAN VICENTE',\n",
              "        'SANDONA', 'SAN FRANCISCO', 'SANTUARIO', 'SARAVENA', 'SASAIMA',\n",
              "        'SEGOVIA', 'SEVILLA', 'SIBUNDOY', 'SILVANIA', 'SILVIA', 'SINCE',\n",
              "        'SAN CRISTOBAL', 'SAN JERONIMO', 'SOATA', 'SOCHA', 'SOCORRO',\n",
              "        'SOPETRAN', 'SOPO', 'SANTA ROSA DE VITERBO', 'SANTA ROSA DEL SUR',\n",
              "        'SUTAMARCHAN', 'TADO', 'TAME', 'TARAZA', 'TAURAMENA', 'TENZA',\n",
              "        'TIBU', 'TIERRALTA', 'TIMANA', 'TIMBIO', 'TITIRIBI', 'TOCA',\n",
              "        'TOLEDO', 'TOLU', 'TORO', 'TRINIDAD', 'TRUJILLO', 'UNE', 'VELEZ',\n",
              "        'VICTORIA', 'VILLAHERMOSA', 'VILLAGARZON', 'VILLANUEVA',\n",
              "        'VILLAPINZON', 'VITERBO', 'VILLA DE LEYVA', 'YAGUARA', 'YARUMAL',\n",
              "        'YOPAL', 'ZAPATOCA', 'ZARZAL', 'ZIPAQUIRA', 'ZULIA', 'ALBAN',\n",
              "        'ARANZAZU', 'ARATOCA', 'ATACO', 'AYAPEL', 'BALBOA',\n",
              "        'BELEN DE LOS ANDAQUIES', 'BUESACO', 'EL CARMEN DE CHUCURI',\n",
              "        'CARMEN DE APICALA', 'EL CARMEN DE ATRATO', 'CAJAMARCA', 'CAJIBIO',\n",
              "        'CHIMICHAGUA', 'CHINACOTA', 'CHOACHI', 'COCORNA', 'CONDOTO',\n",
              "        'COYAIMA', 'CUMBAL', 'CUNDAY', 'CURITI', 'DABEIBA', 'EL PAUJIL',\n",
              "        'FLORIDA', 'GARZON', 'GIGANTE', 'JENESANO', 'LA CRUZ', 'LA GLORIA',\n",
              "        'LA MERCED', 'LA TEBAIDA', 'LA VEGA', 'LEJANIAS', 'MERCADERES',\n",
              "        'MESETAS', 'MIRANDA', 'MOGOTES', 'MARQUETALIA', 'MUZO', 'NECHI',\n",
              "        'OROCUE', 'ORTEGA', 'OTANCHE', 'OVEJAS', 'PUERTO BOYACA', 'PAUNA',\n",
              "        'PESCA', 'PRADERA', 'PROVIDENCIA', 'PUERTO LLERAS', 'PUEBLO NUEVO',\n",
              "        'RIVERA', 'SAN ANTERO', 'SAN PELAYO', 'SAN PEDRO', 'SAN ROQUE',\n",
              "        'SIMIJACA', 'SIMITI', 'SOCOTA', 'SONSON', 'SUAREZ', 'SUAZA',\n",
              "        'SUCRE', 'TUTA', 'VALENCIA', 'VEGACHI', 'AIPE', 'APULO', 'ARJONA',\n",
              "        'BUENOS AIRES', 'CAÑASGORDAS', 'CISNEROS', 'EBEJICO', 'GIRARDOTA',\n",
              "        'GUATICA', 'ICONONZO', 'ITUANGO', 'LA BELLEZA', 'LA PALMA',\n",
              "        'LIBERTADOR', 'MACHETA', 'MARINILLA', 'PAZ DE RIO', 'PARATEBUENO',\n",
              "        'PUPIALES', 'SAN JUAN DE RIO SECO', 'ROVIRA', 'SAN LUIS DE GACENO',\n",
              "        'SAN LUIS', 'SAN MARCOS', 'UBALA', 'YACOPI', 'VISTAHERMOSA',\n",
              "        'SAN JOSE DE ISNOS', 'PITAL', 'CANALETE', 'VENTAQUEMADA',\n",
              "        'PAILITAS', 'TERUEL', 'SAN LORENZO', 'GUADALUPE',\n",
              "        'SAN CARLOS DE GUAROA', 'AGUA DE DIOS', 'TESALIA', 'LA ARGENTINA',\n",
              "        'TARQUI', 'PAJARITO', 'ANOLAIMA', 'CONSACA', 'ANZOATEGUI',\n",
              "        'GALERAS', 'MOÑITOS', 'VIOTA', 'CACHIPAY', 'PAICOL', 'ABREGO',\n",
              "        'PRADO', 'SANTAFE DE ANTIOQUIA', 'ZARAGOZA', 'PALOCABILDO',\n",
              "        'HATO COROZAL', 'SAN ANDRES DE SOTAVENTO', 'VENADILLO',\n",
              "        'PUERTO LEGUIZAMO', 'YONDO', 'LA PINTADA', 'DAGUA', 'HOBO',\n",
              "        'SAN BERNARDO', 'SAN JACINTO', 'PELAYA', 'VALPARAISO', 'REPELON',\n",
              "        'YACUANQUER', 'BELALCAZAR', 'CACHIRA', 'SALAMINA', 'FALAN',\n",
              "        'SAN DIEGO', 'CALAMAR', 'UTICA', 'VILLARICA', 'SANTA MARIA',\n",
              "        'ALVARADO', 'CAPITANEJO', 'SAN ANDRES DE CUERQUIA', 'ALBANIA',\n",
              "        'SALAZAR', 'TAMALAMEQUE', 'SANTA ANA', 'SAN ANDRES ISLA',\n",
              "        'LOURDES', 'TAMINANGO', 'EL DIFICIL-ARIGUANI', 'RISARALDA',\n",
              "        'SAN SEBASTIAN DE BUENAVISTA', 'SARDINATA', 'CARTAGENA DEL CHAIRA',\n",
              "        'GACHALA', 'CASABIANCA', 'CALDONO', 'FUENTE DE ORO',\n",
              "        'SALADOBLANCO', 'TAMARA', 'CALOTO', 'LA CUMBRE', 'ALPUJARRA',\n",
              "        'BARANOA', 'GUAPI', 'EL CARMEN', 'CALIMA', 'ARBELAEZ', 'ANORI',\n",
              "        'OPORAPA', 'TIBANA', 'JARDIN', 'GUACHUCAL', 'ANCUYA', 'LOS ANDES',\n",
              "        'ALMAGUER', 'LINARES', 'SUESCA', 'SAN MIGUEL', 'UMBITA', 'DOLORES',\n",
              "        'GUARANDA', 'CHAPARRAL', 'EL CASTILLO', 'ARCABUCO', 'FUNES',\n",
              "        'VERGARA', 'CAMPO DE LA CRUZ', 'PADILLA', 'TELLO', 'PURISIMA',\n",
              "        'ZETAQUIRA', 'PUERTO ESCONDIDO', 'ACHI', 'SANTA ROSA DE OSOS',\n",
              "        'SAN JUAN DE NEPOMUCENO', 'CHIVOLO', 'CAMPAMENTO', 'LURUACO',\n",
              "        'PALESTINA (ARAUCA)', 'CHITA', 'SOTAQUIRA', 'MILAN', 'CHITARAQUE',\n",
              "        'GAMEZA', 'PUERTO COLOMBIA', 'COLOMBIA', 'GUAMO', 'PIVIJAY',\n",
              "        'SUPATA', 'SUSA', 'RESTREPO', 'NARIÑO', 'PURACE (COCONUCO)',\n",
              "        'SAN JUAN DE ARAMA', 'MACEO', 'CUMBITARA', 'LA PAZ', 'ARBOLEDA',\n",
              "        'LENGUAZAQUE', 'MOMIL', 'FOSCA', 'MACANAL', 'VILLAVIEJA',\n",
              "        'LABATECA', 'ARGELIA', 'BETANIA', 'PAISPAMBA SOTARA', 'TOLUVIEJO',\n",
              "        'DURANIA', 'EL ROSARIO', 'ACANDI', 'BUENAVISTA', 'VENECIA',\n",
              "        'LA CEJA', 'VALLE DE SAN JUAN', 'RIOFRIO', 'COELLO', 'IQUIRA',\n",
              "        'GOMEZ PLATA', 'SANTANA', 'TORIBIO', 'PINILLOS', 'SANTO DOMINGO',\n",
              "        'VALDIVIA', 'PIEDRAS', 'VILLA GOMEZ', 'EL TAMBO', 'BOCHALEMA',\n",
              "        'RONCESVALLES', 'MUTATA', 'LA SIERRA', 'LA PRIMAVERA', 'AGRADO',\n",
              "        'GUAITARILLA', 'BARAYA', 'CHINAVITA', 'CRAVO NORTE',\n",
              "        'BELEN DE UMBRIA', 'SAN LUIS DE PALENQUE', 'MAPIRIPAN',\n",
              "        'LA MACARENA', 'PORE', 'SANTA ISABEL', 'GUAVATA', 'ARBOLEDAS',\n",
              "        'LA CELIA', 'ASTREA', 'PIJAO', 'PUEBLO RICO', 'CUCUTILLA',\n",
              "        'SAN ANDRES', 'LIBORINA', 'BOAVITA', 'APIA',\n",
              "        'SAN JOSE DE LA MONTAÑA', 'MISTRATO', 'PAEZ BELALCAZAR', 'PEQUE',\n",
              "        'GUEPSA', 'CABRERA', 'HERVEO', 'CONTADERO', 'VILLA CARO',\n",
              "        'MARMATO', 'CHITAGA', 'ILES', 'NORCASIA', 'PUERRES', 'EL TABLON',\n",
              "        'PALESTINA', 'PAEZ', 'BECERRIL', 'SANTA CATALINA', 'MANATI',\n",
              "        'NATAGA', 'MONTEBELLO', 'ANGELOPOLIS', 'PAIME',\n",
              "        'SAN JOSE DE RISARALDA', 'LABRANZAGRANDE', 'RAGONVALIA', 'GUICAN',\n",
              "        'ANGOSTURA', 'MURILLO', 'CUBARA', 'LOS PALMITOS', 'ALTAMIRA',\n",
              "        'TEORAMA', 'SAN ANTONIO', 'SANTA BARBARA DE ISCUANDE',\n",
              "        'BOLIVIA-PENSILVANIA', 'TIMBIQUI', 'LIBANO',\n",
              "        'BOCAS DE SATINGA-OLAYA HERRERA', 'NEIRA', 'SIMACOTA', 'FRESNO',\n",
              "        'CERRO DE SAN ANTONIO', 'CAMPOALEGRE', 'MANTA', 'PANDI', 'PASCA',\n",
              "        'CORDOBA', 'CAJICA', 'PACHO', 'CARMEN DE CARUPA', 'JERICO',\n",
              "        'GUTIERREZ', 'JUNIN', 'QUIPILE', 'COTA', 'ANDES', 'LA PEÑA',\n",
              "        'TONA', 'LA MONTAÑITA', 'SAN ESTANISLAO', 'HONDA',\n",
              "        'BRUSELAS-PITALITO', 'TAMESIS', 'LERIDA', 'SAN CAYETANO',\n",
              "        'GUAYABAL DE SIQUIMA', 'TOPAIPI', 'SAN JUANITO', 'CARCASI',\n",
              "        'MATANZA', 'CHIMA', 'PUERTO GUZMAN', 'VILLETA', 'TARSO',\n",
              "        'SAN SEBASTIAN', 'ANZA', 'LAS CORDOBAS', 'ONZAGA', 'ELIAS', 'INZA',\n",
              "        'BUGA', 'CIÉNAGA', 'SAN BENITO ABAD', 'CAIMITO', 'CAROLINA',\n",
              "        'POLICARPA', 'PUERTO RONDON', 'CHAGUANI', 'NUNCHÍA', 'AGUAZUL',\n",
              "        'PALERMO', 'SUBACHOQUE', 'JAMUNDÍ', 'ANSERMA',\n",
              "        'CANDELARIA - CAVASA', 'MADRID', 'MARIQUITA', 'URRAO', 'CURILLO',\n",
              "        'PACORA', 'TOTORÓ', 'VIJES', 'CACOTA', 'UTISCUA', 'TURMEQUÉ',\n",
              "        'SAN JOSÉ DE PARE', 'CHACHAGÜÍ', 'HELICONIA', 'ALEJANDRIA',\n",
              "        'CABUYARO', 'CHIMÁ', 'MOLAGAVITA', 'SILOS', 'BETULIA', 'VETAS',\n",
              "        'EL AGUILA', 'BOGOTÁ', 'HERRAN', 'COROMORO', 'CONCEPCION',\n",
              "        'CARAMANTA', 'URUMITA', 'UNGUIA', 'CHARALA', 'SOMONDOCO',\n",
              "        'GUAYATA', 'TOGUI', 'FLORIAN', 'GAMBITA', 'COVARACHIA',\n",
              "        'SAN MATEO', 'SATIVANORTE', 'OIBA', 'JESÚS MARÍA', 'EL ESPINO',\n",
              "        'TIPACOQUE', 'SUSACÓN', 'LA UVITA', 'SOLITA', 'CHINAUTA',\n",
              "        'FUSAGASUGÁ', 'CAMPOHERMOSO', 'CHIPATA', 'GACHANTIVA', 'CÚCUTA',\n",
              "        'PUERTO SANTANDER', 'EL CHARCO', 'SABANAS DE SAN ANGEL', 'ULLOA',\n",
              "        'CÓRDOBA', 'SANTA SOFÍA', 'SAN BERNARDO DEL VIENTO', 'CHIVOR',\n",
              "        'ABEJORRAL', 'NUEVO COLÓN', 'ROSAS', 'MEDELLÍN', 'QUIBDÓ',\n",
              "        'LA DORADA', 'ZONA BANANERA', 'FONSECA', 'EL CARMEN DE BOLIVAR',\n",
              "        'CAICEDONIA', 'CARACOLI', 'GINEBRA', 'LA UNIÓN', 'GUAYABETAL',\n",
              "        'GUACA', 'AMALFI', 'GACHANCIPA', 'BOGOTA, D.C.', 'COGUA',\n",
              "        'RIO SUCIO', 'SAN JUAN DE URABA', 'LOPEZ MICAY', 'TENA', 'SOPÓ',\n",
              "        'ENTRE RIOS', 'PUEBLO BELLO -CESAR', 'CHISCAS', 'GRAMALOTE',\n",
              "        'PANCE', 'VILLA NUEVA-LA GUAJIRA', 'CORZO', 'SAN JUAN DE BETULIA',\n",
              "        'NEMOCÓN', 'BAJO BAUDÓ (PIZARRO)', 'BELÉN DE UMBRÍA', 'COVEÑAS',\n",
              "        'JAMUNDí', 'JAMBALO', 'GIRÓN', 'GUATAPE'], dtype=object),\n",
              " array(['ANTIOQUIA', 'CUNDINAMARCA', 'RISARALDA', 'VALLE DEL CAUCA',\n",
              "        'BOLIVAR', 'SANTANDER', 'NORTE DE SANTANDER', 'META', 'MAGDALENA',\n",
              "        'NARIÑO', 'SUCRE', 'BOYACA', 'QUINDIO', 'ATLANTICO', 'HUILA',\n",
              "        'CORDOBA', 'CAUCA', 'CALDAS', 'TOLIMA', 'GUAJIRA', 'CESAR',\n",
              "        'ARAUCA', 'CHOCO', 'CAQUETA', 'GUAVIARE', 'PUTUMAYO', 'AMAZONAS',\n",
              "        'CASANARE', 'VAUPES', 'VICHADA', 'GUAINIA',\n",
              "        'SAN ANDRES Y PROVIDENCIA', 'LA GUAJIRA', 'ATLÁNTICO', 'BOLÍVAR',\n",
              "        'NORTE DE SANANDER', 'BOYACÁ', 'CHOCÓ', 'RIOHACHA', 'VERDE'],\n",
              "       dtype=object),\n",
              " array(['AEROPUERTO CAREPA, KILOMETRO 5 VIA ZUNGO',\n",
              "        'AEROPUERTO DORADO NUEVA TERMINAL PISO 1',\n",
              "        'AEROPUERTO DORADO NUEVA TERMINAL PISO 3', ...,\n",
              "        'CARRERA 60 # 24-09', 'CALLE 170 # 65-80',\n",
              "        'LOTE H VEREDA LA BALSA-CHÍA CUNDINAMARCA'], dtype=object)]"
            ]
          },
          "metadata": {},
          "execution_count": 15
        }
      ]
    },
    {
      "cell_type": "code",
      "source": [],
      "metadata": {
        "id": "9UA-IMlN92R9"
      },
      "execution_count": null,
      "outputs": []
    },
    {
      "cell_type": "code",
      "source": [
        "plt.figure(figsize=(10, 6))\n",
        "frecuencia_regional = df['DEPARTAMENTO'].value_counts()\n",
        "frecuencia_regional.plot(kind='bar')\n",
        "plt.title('Frecuencia por Departamento')\n",
        "plt.xlabel('Departamento')\n",
        "plt.ylabel('Frecuencia')\n",
        "plt.show()\n",
        "\n",
        "\n"
      ],
      "metadata": {
        "colab": {
          "base_uri": "https://localhost:8080/",
          "height": 753
        },
        "id": "gdJKHVXw8ir8",
        "outputId": "c37f524a-ef49-4302-f0f6-1037d0b3a50f"
      },
      "execution_count": 29,
      "outputs": [
        {
          "output_type": "display_data",
          "data": {
            "text/plain": [
              "<Figure size 1000x600 with 1 Axes>"
            ],
            "image/png": "[encoded data removed]"
          },
          "metadata": {}
        }
      ]
    },
    {
      "cell_type": "code",
      "source": [
        "print(frecuencia_regional)\n"
      ],
      "metadata": {
        "colab": {
          "base_uri": "https://localhost:8080/"
        },
        "id": "laqptuG8DCo8",
        "outputId": "0ceb76ec-5053-45e8-afec-3aeec5809206"
      },
      "execution_count": 49,
      "outputs": [
        {
          "output_type": "stream",
          "name": "stdout",
          "text": [
            "DEPARTAMENTO\n",
            "CUNDINAMARCA                713\n",
            "ANTIOQUIA                   230\n",
            "VALLE DEL CAUCA             196\n",
            "SANTANDER                   150\n",
            "ATLANTICO                   105\n",
            "BOYACA                       81\n",
            "BOLIVAR                      75\n",
            "NARIÑO                       68\n",
            "TOLIMA                       56\n",
            "MAGDALENA                    55\n",
            "NORTE DE SANTANDER           55\n",
            "HUILA                        49\n",
            "CORDOBA                      46\n",
            "CAUCA                        46\n",
            "RISARALDA                    41\n",
            "META                         39\n",
            "CALDAS                       37\n",
            "SUCRE                        34\n",
            "CESAR                        32\n",
            "QUINDIO                      27\n",
            "CASANARE                     19\n",
            "ATLÁNTICO                    19\n",
            "CAQUETA                      16\n",
            "PUTUMAYO                     14\n",
            "GUAJIRA                      13\n",
            "BOLÍVAR                      11\n",
            "ARAUCA                       10\n",
            "CHOCO                         9\n",
            "BOYACÁ                        4\n",
            "SAN ANDRES Y PROVIDENCIA      2\n",
            "CHOCÓ                         2\n",
            "VICHADA                       2\n",
            "GUAINIA                       2\n",
            "VAUPES                        2\n",
            "GUAVIARE                      2\n",
            "LA GUAJIRA                    1\n",
            "NORTE DE SANANDER             1\n",
            "AMAZONAS                      1\n",
            "RIOHACHA                      1\n",
            "VERDE                         1\n",
            "Name: count, dtype: int64\n"
          ]
        }
      ]
    },
    {
      "cell_type": "code",
      "source": [],
      "metadata": {
        "id": "yKYINHY_ooSu"
      },
      "execution_count": null,
      "outputs": []
    },
    {
      "cell_type": "markdown",
      "source": [],
      "metadata": {
        "id": "_118hsQOovwI"
      }
    },
    {
      "cell_type": "markdown",
      "source": [
        "**CONCLUSION**"
      ],
      "metadata": {
        "id": "umo2TZLGo2h0"
      }
    },
    {
      "cell_type": "markdown",
      "source": [
        "Mirando la grafica de barras es evidente que los departamentos que cuentan con mayor puntos con cajeros cajeros automaticos del Banco Agrario, son los departamentos de Cundinamarca, Atlantico, Valle del Cauca, Santander, Atlantico, Boyaca Bolivar liderando Cundinamarca."
      ],
      "metadata": {
        "id": "kebGpwgPpQhh"
      }
    }
  ]
}